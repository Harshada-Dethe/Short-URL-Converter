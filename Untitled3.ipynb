{
 "cells": [
  {
   "cell_type": "code",
   "execution_count": 1,
   "id": "e2e1dd91",
   "metadata": {},
   "outputs": [],
   "source": [
    "# Class variables shared by all objects\n",
    "\n",
    "# Class: group all variables/attributes and functions/methods into a soingle logical unit\n",
    "\n",
    "class ShortURL1:\n",
    "    \n",
    "    URLPrefix = \"https://www.shortURL.com/\"; # class variable shared by all objects\n",
    "    \n",
    "    def __init__(self): # constructor; not must, but, good to have;  initialize all attributes here\n",
    "        self.d=dict();\n",
    "\n",
    "    # given a long URL, get a short URL\n",
    "    def getShortURL(self, longURL): # first argument to all methods is \"self\" => this object\n",
    "        # length = random value in 6-10\n",
    "        l = random.randint(6,10);\n",
    "        \n",
    "\n",
    "        # generate random characters into a string of length l\n",
    "        chars = string.ascii_lowercase\n",
    "        shortURL = ''.join(random.choice(chars) for i in range(l))\n",
    "        \n",
    "\n",
    "        # check if this string is already present in dict d\n",
    "        if shortURL in self.d:\n",
    "            return getShortURL(longURL);\n",
    "        else:\n",
    "            self.d[shortURL] = longURL;\n",
    "\n",
    "        \n",
    "        r = self.URLPrefix + shortURL\n",
    "        return r;\n",
    "\n",
    "    def getLongURL(self, shortURL):\n",
    "\n",
    "       # print(self.d); # print statemnt for debugging\n",
    "        \n",
    "        # extarct key from URL https://www.shortURL.com/mxzmuis ---> mxzmuis\n",
    "        k = shortURL[25:];\n",
    "        \n",
    "\n",
    "        if k in self.d:\n",
    "            return self.d[k];\n",
    "        else:\n",
    "            return None;"
   ]
  },
  {
   "cell_type": "code",
   "execution_count": null,
   "id": "3f0c0d2d",
   "metadata": {},
   "outputs": [],
   "source": []
  }
 ],
 "metadata": {
  "kernelspec": {
   "display_name": "Python 3",
   "language": "python",
   "name": "python3"
  },
  "language_info": {
   "codemirror_mode": {
    "name": "ipython",
    "version": 3
   },
   "file_extension": ".py",
   "mimetype": "text/x-python",
   "name": "python",
   "nbconvert_exporter": "python",
   "pygments_lexer": "ipython3",
   "version": "3.8.8"
  }
 },
 "nbformat": 4,
 "nbformat_minor": 5
}
